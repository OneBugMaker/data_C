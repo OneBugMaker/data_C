{
 "cells": [
  {
   "cell_type": "code",
   "execution_count": 1,
   "metadata": {},
   "outputs": [
    {
     "name": "stdout",
     "output_type": "stream",
     "text": [
      "1.13.1\n"
     ]
    }
   ],
   "source": [
    "import tensorflow as tf\n",
    "import numpy as np\n",
    "import Ipynb_importer\n",
    "import matplotlib.pyplot as plt\n",
    "%matplotlib inline\n",
    "\n",
    "print(tf.__version__)"
   ]
  },
  {
   "cell_type": "code",
   "execution_count": 2,
   "metadata": {},
   "outputs": [
    {
     "name": "stdout",
     "output_type": "stream",
     "text": [
      "importing Jupyter notebook from data_processing.ipynb\n",
      "folders 2\n",
      "F:/Data/data_C1/neg/\n",
      "F:/Data/data_C1/pos/\n",
      "总样本数： 1000 \n",
      "\n",
      "num_neg(500),train_neg(400),test_neg(100)\n",
      "N_train(800),N_test(200)\n",
      "load_data Done!!!\n",
      "\n",
      "1 建立数据集： <DatasetV1Adapter shapes: ((), ()), types: (tf.string, tf.int32)>\n",
      "2 复用再乱序： <DatasetV1Adapter shapes: ((), ()), types: (tf.string, tf.int32)>\n",
      "WARNING:tensorflow:From C:\\ProgramData\\Anaconda3\\envs\\zcy\\lib\\site-packages\\tensorflow\\python\\ops\\control_flow_ops.py:423: colocate_with (from tensorflow.python.framework.ops) is deprecated and will be removed in a future version.\n",
      "Instructions for updating:\n",
      "Colocations handled automatically by placer.\n",
      "3 函数再批次： <DatasetV1Adapter shapes: ((?, 288, 576, 1), (?,)), types: (tf.float32, tf.int32)>\n",
      "4 预取数据：   <DatasetV1Adapter shapes: ((?, 288, 576, 1), (?,)), types: (tf.float32, tf.int32)>\n",
      "make_dataset done!\n",
      "\n"
     ]
    }
   ],
   "source": [
    "batch_size = 8*3\n",
    "folders =   [\"F:/Data/data_C1/neg/\",  \"F:/Data/data_C1/pos/\",\n",
    "            \"F:/Data/data_C2/neg/\",  \"F:/Data/data_C2/pos/\"]\n",
    "# 由于 data_C2的样本中存在约百分之二的标注错误，导致训练结果不理想，所以\n",
    "# 本设计保存的模型参数是再 dataC1 的数据集上训练出来的。\n",
    "\n",
    "from data_processing import make_dataset\n",
    "ds, val,   N_train,N_test = make_dataset(folders[:2]  ,  batch_size=4)"
   ]
  },
  {
   "cell_type": "code",
   "execution_count": 3,
   "metadata": {},
   "outputs": [
    {
     "name": "stdout",
     "output_type": "stream",
     "text": [
      "WARNING:tensorflow:From C:\\ProgramData\\Anaconda3\\envs\\zcy\\lib\\site-packages\\tensorflow\\python\\keras\\layers\\core.py:143: calling dropout (from tensorflow.python.ops.nn_ops) with keep_prob is deprecated and will be removed in a future version.\n",
      "Instructions for updating:\n",
      "Please use `rate` instead of `keep_prob`. Rate should be set to `rate = 1 - keep_prob`.\n",
      "__________________________________________________________________________________________________\n",
      "Layer (type)                    Output Shape         Param #     Connected to                     \n",
      "==================================================================================================\n",
      "inputs (InputLayer)             (None, 288, 576, 1)  0                                            \n",
      "__________________________________________________________________________________________________\n",
      "C7x7 (Conv2D)                   (None, 144, 288, 8)  400         inputs[0][0]                     \n",
      "__________________________________________________________________________________________________\n",
      "C7x7_BN (BatchNormalization)    (None, 144, 288, 8)  32          C7x7[0][0]                       \n",
      "__________________________________________________________________________________________________\n",
      "C7x7_relu (Activation)          (None, 144, 288, 8)  0           C7x7_BN[0][0]                    \n",
      "__________________________________________________________________________________________________\n",
      "C7x7_MP (MaxPooling2D)          (None, 71, 143, 8)   0           C7x7_relu[0][0]                  \n",
      "__________________________________________________________________________________________________\n",
      "11_Conv1 (Conv2D)               (None, 71, 143, 16)  1168        C7x7_MP[0][0]                    \n",
      "__________________________________________________________________________________________________\n",
      "11_BN1 (BatchNormalization)     (None, 71, 143, 16)  64          11_Conv1[0][0]                   \n",
      "__________________________________________________________________________________________________\n",
      "11_Relu1 (Activation)           (None, 71, 143, 16)  0           11_BN1[0][0]                     \n",
      "__________________________________________________________________________________________________\n",
      "11_Conv2 (Conv2D)               (None, 71, 143, 16)  2320        11_Relu1[0][0]                   \n",
      "__________________________________________________________________________________________________\n",
      "11_Conv0 (Conv2D)               (None, 71, 143, 16)  144         C7x7_MP[0][0]                    \n",
      "__________________________________________________________________________________________________\n",
      "11_add (Add)                    (None, 71, 143, 16)  0           11_Conv2[0][0]                   \n",
      "                                                                 11_Conv0[0][0]                   \n",
      "__________________________________________________________________________________________________\n",
      "11_BN2 (BatchNormalization)     (None, 71, 143, 16)  64          11_add[0][0]                     \n",
      "__________________________________________________________________________________________________\n",
      "11_Relu2 (Activation)           (None, 71, 143, 16)  0           11_BN2[0][0]                     \n",
      "__________________________________________________________________________________________________\n",
      "12_Conv1 (Conv2D)               (None, 71, 143, 16)  2320        11_Relu2[0][0]                   \n",
      "__________________________________________________________________________________________________\n",
      "12_BN1 (BatchNormalization)     (None, 71, 143, 16)  64          12_Conv1[0][0]                   \n",
      "__________________________________________________________________________________________________\n",
      "12_Relu1 (Activation)           (None, 71, 143, 16)  0           12_BN1[0][0]                     \n",
      "__________________________________________________________________________________________________\n",
      "12_Conv2 (Conv2D)               (None, 71, 143, 16)  2320        12_Relu1[0][0]                   \n",
      "__________________________________________________________________________________________________\n",
      "12_add (Add)                    (None, 71, 143, 16)  0           12_Conv2[0][0]                   \n",
      "                                                                 11_Relu2[0][0]                   \n",
      "__________________________________________________________________________________________________\n",
      "12_BN2 (BatchNormalization)     (None, 71, 143, 16)  64          12_add[0][0]                     \n",
      "__________________________________________________________________________________________________\n",
      "12_Relu2 (Activation)           (None, 71, 143, 16)  0           12_BN2[0][0]                     \n",
      "__________________________________________________________________________________________________\n",
      "1M (MaxPooling2D)               (None, 35, 71, 16)   0           12_Relu2[0][0]                   \n",
      "__________________________________________________________________________________________________\n",
      "21_Conv1 (Conv2D)               (None, 35, 71, 32)   4640        1M[0][0]                         \n",
      "__________________________________________________________________________________________________\n",
      "21_BN1 (BatchNormalization)     (None, 35, 71, 32)   128         21_Conv1[0][0]                   \n",
      "__________________________________________________________________________________________________\n",
      "21_Relu1 (Activation)           (None, 35, 71, 32)   0           21_BN1[0][0]                     \n",
      "__________________________________________________________________________________________________\n",
      "21_Conv2 (Conv2D)               (None, 35, 71, 32)   9248        21_Relu1[0][0]                   \n",
      "__________________________________________________________________________________________________\n",
      "21_Conv0 (Conv2D)               (None, 35, 71, 32)   544         1M[0][0]                         \n",
      "__________________________________________________________________________________________________\n",
      "21_add (Add)                    (None, 35, 71, 32)   0           21_Conv2[0][0]                   \n",
      "                                                                 21_Conv0[0][0]                   \n",
      "__________________________________________________________________________________________________\n",
      "21_BN2 (BatchNormalization)     (None, 35, 71, 32)   128         21_add[0][0]                     \n",
      "__________________________________________________________________________________________________\n",
      "21_Relu2 (Activation)           (None, 35, 71, 32)   0           21_BN2[0][0]                     \n",
      "__________________________________________________________________________________________________\n",
      "22_Conv1 (Conv2D)               (None, 35, 71, 32)   9248        21_Relu2[0][0]                   \n",
      "__________________________________________________________________________________________________\n",
      "22_BN1 (BatchNormalization)     (None, 35, 71, 32)   128         22_Conv1[0][0]                   \n",
      "__________________________________________________________________________________________________\n",
      "22_Relu1 (Activation)           (None, 35, 71, 32)   0           22_BN1[0][0]                     \n",
      "__________________________________________________________________________________________________\n",
      "22_Conv2 (Conv2D)               (None, 35, 71, 32)   9248        22_Relu1[0][0]                   \n",
      "__________________________________________________________________________________________________\n",
      "22_add (Add)                    (None, 35, 71, 32)   0           22_Conv2[0][0]                   \n",
      "                                                                 21_Relu2[0][0]                   \n",
      "__________________________________________________________________________________________________\n",
      "22_BN2 (BatchNormalization)     (None, 35, 71, 32)   128         22_add[0][0]                     \n",
      "__________________________________________________________________________________________________\n",
      "22_Relu2 (Activation)           (None, 35, 71, 32)   0           22_BN2[0][0]                     \n",
      "__________________________________________________________________________________________________\n",
      "2M (MaxPooling2D)               (None, 17, 35, 32)   0           22_Relu2[0][0]                   \n",
      "__________________________________________________________________________________________________\n",
      "31_Conv1 (Conv2D)               (None, 17, 35, 64)   18496       2M[0][0]                         \n",
      "__________________________________________________________________________________________________\n",
      "31_BN1 (BatchNormalization)     (None, 17, 35, 64)   256         31_Conv1[0][0]                   \n",
      "__________________________________________________________________________________________________\n",
      "31_Relu1 (Activation)           (None, 17, 35, 64)   0           31_BN1[0][0]                     \n",
      "__________________________________________________________________________________________________\n",
      "31_Conv2 (Conv2D)               (None, 17, 35, 64)   36928       31_Relu1[0][0]                   \n",
      "__________________________________________________________________________________________________\n",
      "31_Conv0 (Conv2D)               (None, 17, 35, 64)   2112        2M[0][0]                         \n",
      "__________________________________________________________________________________________________\n",
      "31_add (Add)                    (None, 17, 35, 64)   0           31_Conv2[0][0]                   \n",
      "                                                                 31_Conv0[0][0]                   \n",
      "__________________________________________________________________________________________________\n",
      "31_BN2 (BatchNormalization)     (None, 17, 35, 64)   256         31_add[0][0]                     \n",
      "__________________________________________________________________________________________________\n",
      "31_Relu2 (Activation)           (None, 17, 35, 64)   0           31_BN2[0][0]                     \n",
      "__________________________________________________________________________________________________\n",
      "32_Conv1 (Conv2D)               (None, 17, 35, 64)   36928       31_Relu2[0][0]                   \n",
      "__________________________________________________________________________________________________\n",
      "32_BN1 (BatchNormalization)     (None, 17, 35, 64)   256         32_Conv1[0][0]                   \n",
      "__________________________________________________________________________________________________\n",
      "32_Relu1 (Activation)           (None, 17, 35, 64)   0           32_BN1[0][0]                     \n",
      "__________________________________________________________________________________________________\n",
      "32_Conv2 (Conv2D)               (None, 17, 35, 64)   36928       32_Relu1[0][0]                   \n",
      "__________________________________________________________________________________________________\n",
      "32_add (Add)                    (None, 17, 35, 64)   0           32_Conv2[0][0]                   \n",
      "                                                                 31_Relu2[0][0]                   \n",
      "__________________________________________________________________________________________________\n",
      "32_BN2 (BatchNormalization)     (None, 17, 35, 64)   256         32_add[0][0]                     \n",
      "__________________________________________________________________________________________________\n",
      "32_Relu2 (Activation)           (None, 17, 35, 64)   0           32_BN2[0][0]                     \n",
      "__________________________________________________________________________________________________\n",
      "3M (MaxPooling2D)               (None, 8, 17, 64)    0           32_Relu2[0][0]                   \n",
      "__________________________________________________________________________________________________\n",
      "3Droupout (Dropout)             (None, 8, 17, 64)    0           3M[0][0]                         \n",
      "__________________________________________________________________________________________________\n",
      "41_Conv1 (Conv2D)               (None, 8, 17, 128)   73856       3Droupout[0][0]                  \n",
      "__________________________________________________________________________________________________\n",
      "41_BN1 (BatchNormalization)     (None, 8, 17, 128)   512         41_Conv1[0][0]                   \n",
      "__________________________________________________________________________________________________\n",
      "41_Relu1 (Activation)           (None, 8, 17, 128)   0           41_BN1[0][0]                     \n",
      "__________________________________________________________________________________________________\n",
      "41_Conv2 (Conv2D)               (None, 8, 17, 128)   147584      41_Relu1[0][0]                   \n",
      "__________________________________________________________________________________________________\n",
      "41_Conv0 (Conv2D)               (None, 8, 17, 128)   8320        3Droupout[0][0]                  \n",
      "__________________________________________________________________________________________________\n",
      "41_add (Add)                    (None, 8, 17, 128)   0           41_Conv2[0][0]                   \n",
      "                                                                 41_Conv0[0][0]                   \n",
      "__________________________________________________________________________________________________\n",
      "41_BN2 (BatchNormalization)     (None, 8, 17, 128)   512         41_add[0][0]                     \n",
      "__________________________________________________________________________________________________\n",
      "41_Relu2 (Activation)           (None, 8, 17, 128)   0           41_BN2[0][0]                     \n",
      "__________________________________________________________________________________________________\n",
      "42_Conv1 (Conv2D)               (None, 8, 17, 128)   147584      41_Relu2[0][0]                   \n",
      "__________________________________________________________________________________________________\n",
      "42_BN1 (BatchNormalization)     (None, 8, 17, 128)   512         42_Conv1[0][0]                   \n",
      "__________________________________________________________________________________________________\n",
      "42_Relu1 (Activation)           (None, 8, 17, 128)   0           42_BN1[0][0]                     \n",
      "__________________________________________________________________________________________________\n",
      "42_Conv2 (Conv2D)               (None, 8, 17, 128)   147584      42_Relu1[0][0]                   \n",
      "__________________________________________________________________________________________________\n",
      "42_add (Add)                    (None, 8, 17, 128)   0           42_Conv2[0][0]                   \n",
      "                                                                 41_Relu2[0][0]                   \n",
      "__________________________________________________________________________________________________\n",
      "42_BN2 (BatchNormalization)     (None, 8, 17, 128)   512         42_add[0][0]                     \n",
      "__________________________________________________________________________________________________\n",
      "42_Relu2 (Activation)           (None, 8, 17, 128)   0           42_BN2[0][0]                     \n",
      "__________________________________________________________________________________________________\n",
      "4M (MaxPooling2D)               (None, 4, 8, 128)    0           42_Relu2[0][0]                   \n",
      "__________________________________________________________________________________________________\n",
      "4Droupout (Dropout)             (None, 4, 8, 128)    0           4M[0][0]                         \n",
      "__________________________________________________________________________________________________\n",
      "GAP (GlobalAveragePooling2D)    (None, 128)          0           4Droupout[0][0]                  \n",
      "__________________________________________________________________________________________________\n",
      "EDroupout (Dropout)             (None, 128)          0           GAP[0][0]                        \n",
      "__________________________________________________________________________________________________\n",
      "softmax (Dense)                 (None, 2)            258         EDroupout[0][0]                  \n",
      "==================================================================================================\n",
      "Total params: 702,050\n",
      "Trainable params: 700,114\n",
      "Non-trainable params: 1,936\n",
      "__________________________________________________________________________________________________\n"
     ]
    }
   ],
   "source": [
    "import tensorflow as tf\n",
    "from tensorflow.keras.models import Model\n",
    "from tensorflow.keras.layers import Input,Conv2D,Activation,MaxPool2D,Flatten,Dense,add,Dropout,GlobalAveragePooling2D\n",
    "\n",
    "# from VggNet import vggnet_model\n",
    "# model =  vggnet_model()\n",
    "def block33(x, N, is_cx ,block_name):\n",
    "    # x shape= [batch_size, high, wide, channel]\n",
    "    # Hx = Fx(主路3,3结构)+ Cx(侧路1结构)\n",
    "    bn = -1\n",
    "    fx = Conv2D(N,(3,3), padding='same', name=block_name+'_Conv1')(x )    # 不直接设置激活函数(AF)     \n",
    "    fx = tf.layers.BatchNormalization( bn ,name=block_name+'_BN1')(fx)    # 先批标准化(BN)\n",
    "    fx = Activation('relu',    name  =  block_name  +  '_Relu1'  )(fx)    # 再激活   \n",
    "    fx = Conv2D(N,(3,3), padding='same', name=block_name+'_Conv2')(fx)    # 主路最后一层不AF，且不BN    \n",
    "    if is_cx:\n",
    "        cx = Conv2D(N,  (1,1),  name  =  block_name  +  '_Conv0' )(x )    #  侧路不AF，且不BN\n",
    "    else:\n",
    "        cx = x   \n",
    "    hx = add([fx,cx],name=block_name+'_add')                              # 先把主路和侧路相加\n",
    "    hx = tf.layers.BatchNormalization( bn,name=block_name+'_BN2' )(hx)    # 再批标准化\n",
    "    hx = Activation('relu',name=block_name+'_Relu2')(hx)                  # 最后激活\n",
    "    \n",
    "    return hx\n",
    "\n",
    "\n",
    "inputs = Input(  shape  =  [288,576,1],   name='inputs'  )\n",
    "\n",
    "num = 8\n",
    "x = Conv2D(num,(7,7),strides=2,padding='same',name='C7x7')(inputs)  \n",
    "x = tf.layers.BatchNormalization(         name='C7x7_BN' )(x)\n",
    "x = Activation(    'relu',              name='C7x7_relu' )(x)\n",
    "x = MaxPool2D(pool_size=(3,3), strides=2,  name='C7x7_MP')(x) \n",
    "\n",
    "num = num * 2\n",
    "block1 = block33(x,      N=num, is_cx=1, block_name='11' )\n",
    "block1 = block33(block1, N=num, is_cx=0, block_name='12' )\n",
    "block1 = MaxPool2D(pool_size=(2,2), strides=2, name='1M' )(block1)\n",
    "\n",
    "num = num * 2\n",
    "block2 = block33(block1, N=num, is_cx=1, block_name='21' )\n",
    "block2 = block33(block2, N=num, is_cx=0, block_name='22' )\n",
    "block2 = MaxPool2D(pool_size=(2,2), strides=2, name='2M' )(block2)\n",
    "\n",
    "num = num * 2\n",
    "block3 = block33(block2, N=num, is_cx=1, block_name='31' )\n",
    "block3 = block33(block3, N=num, is_cx=0, block_name='32' )\n",
    "block3 = MaxPool2D(pool_size=(2,2), strides=2, name='3M' )(block3)\n",
    "block3 = Dropout( rate  =  0.5 ,   name  =   '3Droupout' )(block3)\n",
    "\n",
    "num = num * 2\n",
    "block4 = block33(block3, N=num, is_cx=1, block_name='41' )\n",
    "block4 = block33(block4, N=num, is_cx=0, block_name='42' )\n",
    "block4 = MaxPool2D(pool_size=(2,2), strides=2, name='4M' )(block4)\n",
    "block4 = Dropout( rate  =  0.5 ,   name  =   '4Droupout' )(block4)\n",
    "\n",
    "block_out  =  GlobalAveragePooling2D( name   =    'GAP'  )(block4)\n",
    "# block_out = Flatten()(block4)\n",
    "block_out  =  Dropout( rate  =  0.5,  name = 'EDroupout' )(block_out)\n",
    "outputs = Dense(2, activation='softmax',name = 'softmax' )(block_out)\n",
    "\n",
    "model = tf.keras.Model(inputs, outputs, name='ResNet_18' )\n",
    "\n",
    "model.summary()\n",
    "# from tensorflow.keras.utils import plot_model\n",
    "# plot_model(model,show_shapes=True,rankdir='TB', to_file='ResNet_18.png')"
   ]
  },
  {
   "cell_type": "code",
   "execution_count": 4,
   "metadata": {},
   "outputs": [
    {
     "name": "stdout",
     "output_type": "stream",
     "text": [
      "done!\n"
     ]
    }
   ],
   "source": [
    "model.compile(optimizer='adam',\n",
    "              loss='sparse_categorical_crossentropy',\n",
    "              metrics=['accuracy'])\n",
    "\n",
    "print('done!')"
   ]
  },
  {
   "cell_type": "code",
   "execution_count": 5,
   "metadata": {},
   "outputs": [
    {
     "name": "stdout",
     "output_type": "stream",
     "text": [
      "33/33 [==============================] - 4s 112ms/step - loss: 0.6952 - acc: 0.5303\n"
     ]
    },
    {
     "data": {
      "text/plain": [
       "[0.695190202106129, 0.530303]"
      ]
     },
     "execution_count": 5,
     "metadata": {},
     "output_type": "execute_result"
    }
   ],
   "source": [
    "model.evaluate( ds   , steps = 800//batch_size*1)                           # 训练数据"
   ]
  },
  {
   "cell_type": "code",
   "execution_count": 6,
   "metadata": {},
   "outputs": [
    {
     "name": "stdout",
     "output_type": "stream",
     "text": [
      "33/33 [==============================] - 2s 59ms/step - loss: 0.0132 - acc: 0.9924\n",
      "8/8 [==============================] - 1s 83ms/step - loss: 5.3091e-04 - acc: 1.0000\n"
     ]
    },
    {
     "data": {
      "text/plain": [
       "[0.0005309055090911841, 1.0]"
      ]
     },
     "execution_count": 6,
     "metadata": {},
     "output_type": "execute_result"
    }
   ],
   "source": [
    "model.load_weights('./save/ResNet/my_model_weights')                        # 加载参数\n",
    "model.evaluate( ds   , steps = 800//batch_size*1)                           # 训练数据\n",
    "model.evaluate( val  , steps = 200//batch_size*1)                           # 测试数据"
   ]
  },
  {
   "cell_type": "code",
   "execution_count": 7,
   "metadata": {},
   "outputs": [
    {
     "name": "stdout",
     "output_type": "stream",
     "text": [
      "done\n",
      "WARNING:tensorflow:From C:\\ProgramData\\Anaconda3\\envs\\zcy\\lib\\site-packages\\tensorflow\\python\\ops\\math_ops.py:3066: to_int32 (from tensorflow.python.ops.math_ops) is deprecated and will be removed in a future version.\n",
      "Instructions for updating:\n",
      "Use tf.cast instead.\n",
      "Epoch 1/10\n",
      "33/33 [==============================] - 7s 207ms/step - loss: 0.0485 - acc: 0.9848\n",
      "Epoch 2/10\n",
      "33/33 [==============================] - 4s 123ms/step - loss: 0.0699 - acc: 0.9848\n",
      "Epoch 3/10\n",
      "33/33 [==============================] - 4s 123ms/step - loss: 0.1563 - acc: 0.9773\n",
      "Epoch 4/10\n",
      "33/33 [==============================] - 4s 117ms/step - loss: 0.0828 - acc: 0.9773\n",
      "Epoch 5/10\n",
      "33/33 [==============================] - 4s 118ms/step - loss: 0.1596 - acc: 0.9242\n",
      "Epoch 6/10\n",
      "33/33 [==============================] - 4s 117ms/step - loss: 0.0970 - acc: 0.9848\n",
      "Epoch 7/10\n",
      "33/33 [==============================] - 4s 118ms/step - loss: 0.0671 - acc: 0.9848\n",
      "Epoch 8/10\n",
      "33/33 [==============================] - 4s 125ms/step - loss: 0.0863 - acc: 0.9773\n",
      "Epoch 9/10\n",
      "33/33 [==============================] - 4s 122ms/step - loss: 0.1420 - acc: 0.9697\n",
      "Epoch 10/10\n",
      "33/33 [==============================] - 4s 122ms/step - loss: 0.0959 - acc: 0.9773\n"
     ]
    },
    {
     "data": {
      "text/plain": [
       "<tensorflow.python.keras.callbacks.History at 0x2963ecac9b0>"
      ]
     },
     "execution_count": 7,
     "metadata": {},
     "output_type": "execute_result"
    }
   ],
   "source": [
    "# callbacks = [\n",
    "#   tf.keras.callbacks.TensorBoard(log_dir='.\\save\\logs\\Resnet',histogram_freq = 1,\n",
    "#                                  batch_size=batch_size,write_grads=True,write_images=True)\n",
    "# ]\n",
    "print('done')\n",
    "\n",
    "model.fit( ds,          epochs=  10  ,        steps_per_epoch = N_train//batch_size)\n",
    "#            callbacks=callbacks) \n",
    "#            validation_data=val_dataset,         validation_steps = 5 )   \n",
    "\n",
    "# tensorboard --logdir=C:/Users/gang_E540/Desktop/Python/data_C/save/logs/Resnet   # 文件路径不可以用引号"
   ]
  },
  {
   "cell_type": "code",
   "execution_count": 8,
   "metadata": {},
   "outputs": [
    {
     "name": "stdout",
     "output_type": "stream",
     "text": [
      "11/11 [==============================] - 1s 109ms/step - loss: 0.0664 - acc: 0.9773\n"
     ]
    },
    {
     "data": {
      "text/plain": [
       "[0.06635877500155568, 0.97727275]"
      ]
     },
     "execution_count": 8,
     "metadata": {},
     "output_type": "execute_result"
    }
   ],
   "source": [
    "model.evaluate( ds   , steps = N_train//batch_size//3)                           # 训练数据"
   ]
  },
  {
   "cell_type": "code",
   "execution_count": 9,
   "metadata": {},
   "outputs": [
    {
     "name": "stdout",
     "output_type": "stream",
     "text": [
      "24/24 [==============================] - 2s 77ms/step - loss: 0.1492 - acc: 0.9375\n",
      "99/99 [==============================] - 6s 65ms/step - loss: 0.1031 - acc: 0.9646\n"
     ]
    },
    {
     "data": {
      "text/plain": [
       "[0.10313727380251497, 0.96464646]"
      ]
     },
     "execution_count": 9,
     "metadata": {},
     "output_type": "execute_result"
    }
   ],
   "source": [
    "model.evaluate( val  , steps = N_test //batch_size*3)                           # 测试数据\n",
    "model.evaluate( ds   , steps = N_train//batch_size*3)                           # 训练数据"
   ]
  },
  {
   "cell_type": "code",
   "execution_count": 10,
   "metadata": {},
   "outputs": [
    {
     "name": "stdout",
     "output_type": "stream",
     "text": [
      "[[5.2386237e-04 9.9947613e-01]\n",
      " [5.4549711e-04 9.9945456e-01]\n",
      " [4.9410253e-03 9.9505901e-01]\n",
      " [1.2283486e-20 1.0000000e+00]]\n"
     ]
    }
   ],
   "source": [
    "predict_test = model.predict(  val ,batch_size=batch_size, steps = 1)\n",
    "print(predict_test)\n",
    "predict = np.argmax(predict_test,axis=1)  #axis = 1是取行的最大值的索引，0是列的最大值的索引\n",
    "# print(predict)\n",
    "# print(np.sum(predict)/len(predict),len(predict))"
   ]
  },
  {
   "cell_type": "markdown",
   "metadata": {},
   "source": [
    "# 训练后不轻易加载和保存"
   ]
  },
  {
   "cell_type": "code",
   "execution_count": 11,
   "metadata": {},
   "outputs": [],
   "source": [
    "# model.save_weights('./save/ResNet/my_model_weights')\n",
    "# print('done')"
   ]
  },
  {
   "cell_type": "code",
   "execution_count": 12,
   "metadata": {},
   "outputs": [],
   "source": [
    "# # 保存模型 + 参数\n",
    "# model.save('ResNet_18.h5')\n",
    "# print('done')"
   ]
  }
 ],
 "metadata": {
  "kernelspec": {
   "display_name": "Python 3",
   "language": "python",
   "name": "python3"
  },
  "language_info": {
   "codemirror_mode": {
    "name": "ipython",
    "version": 3
   },
   "file_extension": ".py",
   "mimetype": "text/x-python",
   "name": "python",
   "nbconvert_exporter": "python",
   "pygments_lexer": "ipython3",
   "version": "3.6.8"
  }
 },
 "nbformat": 4,
 "nbformat_minor": 2
}
